{
  "nbformat": 4,
  "nbformat_minor": 0,
  "metadata": {
    "colab": {
      "name": "Atividade Aula 6 - ELT com PySpark.ipynb",
      "provenance": [],
      "toc_visible": true,
      "include_colab_link": true
    },
    "kernelspec": {
      "name": "python3",
      "display_name": "Python 3"
    }
  },
  "cells": [
    {
      "cell_type": "markdown",
      "metadata": {
        "id": "view-in-github",
        "colab_type": "text"
      },
      "source": [
        "<a href=\"https://colab.research.google.com/github/kaique-vitiello/Python/blob/master/Atividade_Aula_6_ELT_com_PySpark.ipynb\" target=\"_parent\"><img src=\"https://colab.research.google.com/assets/colab-badge.svg\" alt=\"Open In Colab\"/></a>"
      ]
    },
    {
      "cell_type": "markdown",
      "metadata": {
        "id": "7ngE8db6piW_"
      },
      "source": [
        "**1 - Configurando o Spark no Python**\n",
        "\n",
        "Etapa responsável por realizar o Download e configuração do Apache Spark."
      ]
    },
    {
      "cell_type": "code",
      "metadata": {
        "id": "IrW5sVN1qcQ8"
      },
      "source": [
        "#Instacao e configuracao do Java 8\n",
        "!apt-get install openjdk-8-jdk-headless -qq > /dev/null\n",
        "#Download do Apache Spark\n",
        "!wget -q http://apache.osuosl.org/spark/spark-3.0.1/spark-3.0.1-bin-hadoop3.2.tgz\n",
        "#Descompatacao do Apache Spark\n",
        "!tar xf spark-3.0.1-bin-hadoop3.2.tgz\n",
        "#Instalacao do Findspark\n",
        "!pip install -q findspark"
      ],
      "execution_count": 1,
      "outputs": []
    },
    {
      "cell_type": "markdown",
      "metadata": {
        "id": "q5qt9EzIr7EC"
      },
      "source": [
        "**2 - Configurando o Ambiente**\n",
        "\n",
        "Etapa responsável por configurar o ambiente do Spark"
      ]
    },
    {
      "cell_type": "code",
      "metadata": {
        "id": "w-Je7w5hsHUv"
      },
      "source": [
        "import os\n",
        "os.environ[\"JAVA_HOME\"] = \"/usr/lib/jvm/java-8-openjdk-amd64\"\n",
        "os.environ[\"SPARK_HOME\"] = \"/content/spark-3.0.1-bin-hadoop3.2\""
      ],
      "execution_count": 2,
      "outputs": []
    },
    {
      "cell_type": "markdown",
      "metadata": {
        "id": "8fM2wYcPseoa"
      },
      "source": [
        "**3 - Configurando a sessão do Spark**\n",
        "\n",
        "Etapa responsável por inicializar a sessão do Spark"
      ]
    },
    {
      "cell_type": "code",
      "metadata": {
        "id": "4m86_v1Isqo1"
      },
      "source": [
        "import findspark\n",
        "findspark.init()\n",
        "from pyspark.sql import SparkSession\n",
        "spark = SparkSession.builder.master(\"local[*]\").getOrCreate()"
      ],
      "execution_count": 3,
      "outputs": []
    },
    {
      "cell_type": "markdown",
      "metadata": {
        "id": "sGR0NhUms_tW"
      },
      "source": [
        "**4 - Validando a Configuração e Versão do Spark**\n",
        "\n",
        "Etapa de verificação "
      ]
    },
    {
      "cell_type": "code",
      "metadata": {
        "id": "zz8b2dOjtDoV",
        "outputId": "f790845c-fae2-4392-9c43-fde1061300ff",
        "colab": {
          "base_uri": "https://localhost:8080/",
          "height": 34
        }
      },
      "source": [
        "import pyspark\n",
        "print(pyspark.__version__)"
      ],
      "execution_count": 4,
      "outputs": [
        {
          "output_type": "stream",
          "text": [
            "3.0.1\n"
          ],
          "name": "stdout"
        }
      ]
    },
    {
      "cell_type": "markdown",
      "metadata": {
        "id": "ly0F0jJcuB2k"
      },
      "source": [
        "**5 - Download dos Dados do Portal da Transparência**\n",
        "\n",
        "Etapa responsável por realizar o Download das informações de Gastos por meio de cartão de pagamento providas através da API: http://www.portaltransparencia.gov.br/api-de-dados/cartoes?pagina=1"
      ]
    },
    {
      "cell_type": "code",
      "metadata": {
        "id": "P1su3TfNuFVh",
        "outputId": "b95cc635-f79c-4997-826e-abd361f0f6dd",
        "colab": {
          "base_uri": "https://localhost:8080/",
          "height": 68
        }
      },
      "source": [
        "!curl -X GET --header 'Accept: application/json' --header 'chave-api-dados: 06e7683b347936e84902f24cd6a798b2' 'http://www.portaltransparencia.gov.br/api-de-dados/viagens?dataIdaDe=01%2F07%2F2020&dataIdaAte=01%2F08%2F2020&dataRetornoDe=01%2F07%2F2020&dataRetornoAte=01%2F08%2F2020&codigoOrgao=20000&pagina=1' > consulta_portal_transparencia.json"
      ],
      "execution_count": 8,
      "outputs": [
        {
          "output_type": "stream",
          "text": [
            "  % Total    % Received % Xferd  Average Speed   Time    Time     Time  Current\n",
            "                                 Dload  Upload   Total   Spent    Left  Speed\n",
            "100 26647    0 26647    0     0  11864      0 --:--:--  0:00:02 --:--:-- 11864\n"
          ],
          "name": "stdout"
        }
      ]
    },
    {
      "cell_type": "markdown",
      "metadata": {
        "id": "fyfxjMmtvROc"
      },
      "source": [
        "**6 - Carregando os dados no Spark**\n",
        "\n",
        "Etapa paga a carga de dados no Spark."
      ]
    },
    {
      "cell_type": "code",
      "metadata": {
        "id": "kESr_0SfwDR9"
      },
      "source": [
        "#Instancia o contexto do Spark\n",
        "sc = spark.sparkContext\n",
        "#Realiza a leitura da nossa consulta realizada na API do Governo Federal sobre as Viagens\n",
        "path = \"/content/consulta_portal_transparencia.json\"\n",
        "#Declara dataframe df com o conteudo da api que estava no JSON\n",
        "df = spark.read.json(path)"
      ],
      "execution_count": 9,
      "outputs": []
    },
    {
      "cell_type": "markdown",
      "metadata": {
        "id": "kLEJ7U5twj06"
      },
      "source": [
        "**7 - Explorando os dados que foram obtidos**\n",
        "\n",
        "Etapa de exploração dos dados."
      ]
    },
    {
      "cell_type": "code",
      "metadata": {
        "id": "cuerELhJwqQi",
        "outputId": "5ab35909-3dba-49ca-915a-da7f5555bc1f",
        "colab": {
          "base_uri": "https://localhost:8080/",
          "height": 1000
        }
      },
      "source": [
        "#Imprime a estrutura de dados do nosso dataframe\n",
        "df.printSchema()\n",
        "#Imprime uma amosta de dados ( para especificar as linhas basta colocar a quantidade entre ())\n",
        "df.show()"
      ],
      "execution_count": 10,
      "outputs": [
        {
          "output_type": "stream",
          "text": [
            "root\n",
            " |-- beneficiario: struct (nullable = true)\n",
            " |    |-- cpf: string (nullable = true)\n",
            " |    |-- cpfFormatado: string (nullable = true)\n",
            " |    |-- id: long (nullable = true)\n",
            " |    |-- nome: string (nullable = true)\n",
            " |    |-- nomeSemAcento: string (nullable = true)\n",
            " |-- cargo: string (nullable = true)\n",
            " |-- dataFimAfastamento: string (nullable = true)\n",
            " |-- dataInicioAfastamento: string (nullable = true)\n",
            " |-- dimViagem: struct (nullable = true)\n",
            " |    |-- ano: long (nullable = true)\n",
            " |    |-- id: long (nullable = true)\n",
            " |    |-- justificativaUrgente: string (nullable = true)\n",
            " |    |-- motivo: string (nullable = true)\n",
            " |    |-- numPcdp: string (nullable = true)\n",
            " |    |-- pcdp: string (nullable = true)\n",
            " |    |-- viagemUrgente: boolean (nullable = true)\n",
            " |-- funcao: string (nullable = true)\n",
            " |-- id: long (nullable = true)\n",
            " |-- orgao: struct (nullable = true)\n",
            " |    |-- cnpj: string (nullable = true)\n",
            " |    |-- codigoSIAFI: string (nullable = true)\n",
            " |    |-- descricaoPoder: string (nullable = true)\n",
            " |    |-- nome: string (nullable = true)\n",
            " |    |-- orgaoMaisRecente: boolean (nullable = true)\n",
            " |    |-- orgaoMaximo: struct (nullable = true)\n",
            " |    |    |-- codigo: string (nullable = true)\n",
            " |    |    |-- nome: string (nullable = true)\n",
            " |    |    |-- sigla: string (nullable = true)\n",
            " |    |-- sigla: string (nullable = true)\n",
            " |-- orgaoPagamento: string (nullable = true)\n",
            " |-- pessoa: struct (nullable = true)\n",
            " |    |-- cnae: string (nullable = true)\n",
            " |    |-- codigoFormatado: string (nullable = true)\n",
            " |    |-- complementoEndereco: string (nullable = true)\n",
            " |    |-- dataAbertura: string (nullable = true)\n",
            " |    |-- descricaoLogradouro: string (nullable = true)\n",
            " |    |-- enderecoEletronico: string (nullable = true)\n",
            " |    |-- localidadePessoa: string (nullable = true)\n",
            " |    |-- municipio: struct (nullable = true)\n",
            " |    |    |-- codigoIBGE: string (nullable = true)\n",
            " |    |    |-- nomeIBGE: string (nullable = true)\n",
            " |    |    |-- nomeIBGEsemAcento: string (nullable = true)\n",
            " |    |    |-- pais: string (nullable = true)\n",
            " |    |    |-- uf: struct (nullable = true)\n",
            " |    |    |    |-- nome: string (nullable = true)\n",
            " |    |    |    |-- sigla: string (nullable = true)\n",
            " |    |-- naturezaJuridica: string (nullable = true)\n",
            " |    |-- nome: string (nullable = true)\n",
            " |    |-- nomeBairro: string (nullable = true)\n",
            " |    |-- nomeFantasiaReceita: string (nullable = true)\n",
            " |    |-- numeroCEP: string (nullable = true)\n",
            " |    |-- numeroEndereco: string (nullable = true)\n",
            " |    |-- numeroInscricaoSocial: string (nullable = true)\n",
            " |    |-- numeroTelefone: string (nullable = true)\n",
            " |    |-- razaoSocialReceita: string (nullable = true)\n",
            " |    |-- tipoCodigo: string (nullable = true)\n",
            " |    |-- tipoPessoa: string (nullable = true)\n",
            " |-- situacao: string (nullable = true)\n",
            " |-- tipoViagem: struct (nullable = true)\n",
            " |    |-- descricao: string (nullable = true)\n",
            " |    |-- id: long (nullable = true)\n",
            " |-- unidadeGestoraResponsavel: string (nullable = true)\n",
            " |-- valorMulta: double (nullable = true)\n",
            " |-- valorTotalDevolucao: double (nullable = true)\n",
            " |-- valorTotalDiarias: double (nullable = true)\n",
            " |-- valorTotalPassagem: double (nullable = true)\n",
            " |-- valorTotalRestituicao: double (nullable = true)\n",
            " |-- valorTotalTaxaAgenciamento: double (nullable = true)\n",
            " |-- valorTotalViagem: double (nullable = true)\n",
            "\n",
            "+--------------------+-----+------------------+---------------------+--------------------+------+---------+--------------------+--------------+--------------------+--------+-------------+-------------------------+----------+-------------------+-----------------+------------------+---------------------+--------------------------+----------------+\n",
            "|        beneficiario|cargo|dataFimAfastamento|dataInicioAfastamento|           dimViagem|funcao|       id|               orgao|orgaoPagamento|              pessoa|situacao|   tipoViagem|unidadeGestoraResponsavel|valorMulta|valorTotalDevolucao|valorTotalDiarias|valorTotalPassagem|valorTotalRestituicao|valorTotalTaxaAgenciamento|valorTotalViagem|\n",
            "+--------------------+-----+------------------+---------------------+--------------------+------+---------+--------------------+--------------+--------------------+--------+-------------+-------------------------+----------+-------------------+-----------------+------------------+---------------------+--------------------------+----------------+\n",
            "|[03761905742, ***...| null|        23/07/2020|           19/07/2020|[2020, 107800181,...|  null|213200163|[00000000000000, ...|          null|[, ***.619.057-**...|    null|[Nacional, 1]|                     null|       0.0|                0.0|            501.5|           1188.53|                  0.0|                       0.0|         1690.03|\n",
            "|[14699860788, ***...| null|        23/07/2020|           19/07/2020|[2020, 107800183,...|  null|206200123|[00000000000000, ...|          null|[, ***.998.607-**...|    null|[Nacional, 1]|                     null|       0.0|                0.0|            416.5|           1188.53|                  0.0|                       0.0|         1605.03|\n",
            "|[15461730728, ***...| null|        23/07/2020|           19/07/2020|[2020, 107800184,...|  null|214800120|[00000000000000, ...|          null|[, ***.617.307-**...|    null|[Nacional, 1]|                     null|       0.0|                0.0|            416.5|           1188.53|                  0.0|                       0.0|         1605.03|\n",
            "|[18077696821, ***...| null|        07/07/2020|           06/07/2020|[2020, 108100370,...|  null|206100009|[00000000000000, ...|          null|[, ***.776.968-**...|    null|[Nacional, 1]|                     null|       0.0|                0.0|           321.28|               0.0|                  0.0|                       0.0|          321.28|\n",
            "|[70506647072, ***...| null|        07/07/2020|           06/07/2020|[2020, 108100376,...|  null|204800111|[00000000000000, ...|          null|[, ***.066.470-**...|    null|[Nacional, 1]|                     null|       0.0|                0.0|           321.28|               0.0|                  0.0|                       0.0|          321.28|\n",
            "|[21834432863, ***...| null|        07/07/2020|           06/07/2020|[2020, 108100379,...|  null|212300072|[00000000000000, ...|          null|[, ***.344.328-**...|    null|[Nacional, 1]|                     null|       0.0|                0.0|           321.28|               0.0|                  0.0|                       0.0|          321.28|\n",
            "|[00690142722, ***...| null|        07/07/2020|           06/07/2020|[2020, 108100381,...|  null|213600058|[00000000000000, ...|          null|[, ***.901.427-**...|    null|[Nacional, 1]|                     null|       0.0|                0.0|           321.28|               0.0|                  0.0|                       0.0|          321.28|\n",
            "|[76787362072, ***...| null|        07/07/2020|           06/07/2020|[2020, 108100382,...|  null|210200027|[00000000000000, ...|          null|[, ***.873.620-**...|    null|[Nacional, 1]|                     null|       0.0|                0.0|           321.28|               0.0|                  0.0|                       0.0|          321.28|\n",
            "|[01498902146, ***...| null|        07/07/2020|           06/07/2020|[2020, 108100383,...|  null|215600011|[00000000000000, ...|          null|[, ***.989.021-**...|    null|[Nacional, 1]|                     null|       0.0|                0.0|           321.28|               0.0|                  0.0|                       0.0|          321.28|\n",
            "|[32391660898, ***...| null|        06/07/2020|           06/07/2020|[2020, 108100384,...|  null|214500087|[00000000000000, ...|          null|[, ***.916.608-**...|    null|[Nacional, 1]|                     null|       0.0|                0.0|           160.64|               0.0|                  0.0|                       0.0|          160.64|\n",
            "|[00471942197, ***...| null|        07/07/2020|           07/07/2020|[2020, 108100385,...|  null|209000027|[00000000000000, ...|          null|[, ***.719.421-**...|    null|[Nacional, 1]|                     null|       0.0|                0.0|           160.64|               0.0|                  0.0|                       0.0|          160.64|\n",
            "|[08191713799, ***...| null|        07/07/2020|           06/07/2020|[2020, 108100396,...|  null|203700079|[00000000000000, ...|          null|[, ***.917.137-**...|    null|[Nacional, 1]|                     null|       0.0|                0.0|           321.28|               0.0|                  0.0|                       0.0|          321.28|\n",
            "|[72024348149, ***...| null|        07/07/2020|           06/07/2020|[2020, 108100399,...|  null|210600066|[00000000000000, ...|          null|[, ***.243.481-**...|    null|[Nacional, 1]|                     null|       0.0|                0.0|           321.28|               0.0|                  0.0|                       0.0|          321.28|\n",
            "|[97436615149, ***...| null|        07/07/2020|           06/07/2020|[2020, 108100400,...|  null|202200014|[00000000000000, ...|          null|[, ***.366.151-**...|    null|[Nacional, 1]|                     null|       0.0|                0.0|           321.28|               0.0|                  0.0|                       0.0|          321.28|\n",
            "|[01426105185, ***...| null|        07/07/2020|           06/07/2020|[2020, 108100401,...|  null|212600107|[00000000000000, ...|          null|[, ***.261.051-**...|    null|[Nacional, 1]|                     null|       0.0|                0.0|            244.0|               0.0|                  0.0|                       0.0|           244.0|\n",
            "+--------------------+-----+------------------+---------------------+--------------------+------+---------+--------------------+--------------+--------------------+--------+-------------+-------------------------+----------+-------------------+-----------------+------------------+---------------------+--------------------------+----------------+\n",
            "\n"
          ],
          "name": "stdout"
        }
      ]
    },
    {
      "cell_type": "markdown",
      "metadata": {
        "id": "L312L6PcybTM"
      },
      "source": [
        "**8 - Tratando e transformando os dados**"
      ]
    },
    {
      "cell_type": "code",
      "metadata": {
        "id": "L5673enDyiXd",
        "outputId": "c8ee6e82-c1d7-4ab9-c929-26ca82f63cec",
        "colab": {
          "base_uri": "https://localhost:8080/",
          "height": 357
        }
      },
      "source": [
        "dfPrepared = df.selectExpr(\"beneficiario.nome\",\"dimViagem.ano\",\"dimViagem.motivo\",\"pessoa.municipio.nomeIBGE as municipio\", \"tipoViagem.descricao\", \"valorTotalViagem\")\n",
        "dfPrepared.show()"
      ],
      "execution_count": 24,
      "outputs": [
        {
          "output_type": "stream",
          "text": [
            "+--------------------+----+--------------------+---------------+---------+----------------+\n",
            "|                nome| ano|              motivo|      municipio|descricao|valorTotalViagem|\n",
            "+--------------------+----+--------------------+---------------+---------+----------------+\n",
            "|LUIZ HENRIQUE GOM...|2020|OFÍCIO Nº 500/202...| RIO DE JANEIRO| Nacional|         1690.03|\n",
            "|PAULO RICARDO DA ...|2020|OFÍCIO Nº 500/202...|      NILÓPOLIS| Nacional|         1605.03|\n",
            "|LUCAS PINTO DA SILVA|2020|OFÍCIO Nº 500/202...|DUQUE DE CAXIAS| Nacional|         1605.03|\n",
            "|GERSON RICARDO PA...|2020|SOLICITAÇÃO DE DI...|           IJUÍ| Nacional|          321.28|\n",
            "|PAULO RICARDO PEI...|2020|SOLICITAÇÃO DE DI...|       BRASÍLIA| Nacional|          321.28|\n",
            "|  DENIS BENINI SOUSA|2020|SOLICITAÇÃO DE DI...|       BRASÍLIA| Nacional|          321.28|\n",
            "|FLAVIO FRANCISCO ...|2020|SOLICITAÇÃO DE DI...|       BRASÍLIA| Nacional|          321.28|\n",
            "|ROSSANO AQUINO BE...|2020|SOLICITAÇÃO DE DI...|       BRASÍLIA| Nacional|          321.28|\n",
            "|ESTEVAM MORAES RA...|2020|SOLICITAÇÃO DE DI...|       BRASÍLIA| Nacional|          321.28|\n",
            "|GLAUCIA GALVAO DE...|2020|SOLICITAÇÃO DE DI...|       BRASÍLIA| Nacional|          160.64|\n",
            "|LEANDRO JOSE DOS ...|2020|SOLICITAÇÃO DE DI...|       BRASÍLIA| Nacional|          160.64|\n",
            "|BRUNO VILACA DA S...|2020|SOLICITAÇÃO DE DI...|       BRASÍLIA| Nacional|          321.28|\n",
            "|CARLOS ALBERTO NE...|2020|SOLICITAÇÃO DE DI...|       BRASÍLIA| Nacional|          321.28|\n",
            "|BERNARDO HOFFMANN...|2020|SOLICITAÇÃO DE DI...|       BRASÍLIA| Nacional|          321.28|\n",
            "|MARLON DE OLIVEIR...|2020|SOLICITAÇÃO DE DI...|       BRASÍLIA| Nacional|           244.0|\n",
            "+--------------------+----+--------------------+---------------+---------+----------------+\n",
            "\n"
          ],
          "name": "stdout"
        }
      ]
    },
    {
      "cell_type": "markdown",
      "metadata": {
        "id": "XhP-JfBPyi3j"
      },
      "source": [
        "**9 - Analise das informações e resultados obtidos**\n",
        "\n",
        "Etapa onde são realizadas as analises utilizando linguagem SQL para por exemplo descobrir quem mais gastou no ano vigente."
      ]
    },
    {
      "cell_type": "code",
      "metadata": {
        "id": "EcIoWB3V0gmu"
      },
      "source": [
        "#Declara tabela temporaria no SparkSQL\n",
        "dfPrepared.createOrReplaceTempView(\"dfPrepared\")"
      ],
      "execution_count": 25,
      "outputs": []
    },
    {
      "cell_type": "code",
      "metadata": {
        "id": "DU6IL16T0uaZ",
        "outputId": "fd09399a-8c37-4f25-8df1-c0b326c99891",
        "colab": {
          "base_uri": "https://localhost:8080/",
          "height": 119
        }
      },
      "source": [
        "#avalia o total gasto com viagem\n",
        "topTravels = spark.sql(\"select sum(valorTotalViagem) as valor_total from dfPrepared\")\n",
        "topTravels.show()"
      ],
      "execution_count": 34,
      "outputs": [
        {
          "output_type": "stream",
          "text": [
            "+-----------+\n",
            "|valor_total|\n",
            "+-----------+\n",
            "|    8356.89|\n",
            "+-----------+\n",
            "\n"
          ],
          "name": "stdout"
        }
      ]
    }
  ]
}