{
 "cells": [
  {
   "cell_type": "markdown",
   "metadata": {},
   "source": [
    "### Exercicio 1 \n",
    "Calculadora simples"
   ]
  },
  {
   "cell_type": "code",
   "execution_count": 8,
   "metadata": {},
   "outputs": [],
   "source": [
    "valor1 = 9\n",
    "valor2 = 0\n",
    "\n",
    "calc = 'soma'\n",
    "\n",
    "if (calc == 'soma'):\n",
    "    resultado = (valor1 + valor2)\n",
    "else:\n",
    "    resultado = 0"
   ]
  },
  {
   "cell_type": "code",
   "execution_count": 9,
   "metadata": {},
   "outputs": [
    {
     "data": {
      "text/plain": [
       "9"
      ]
     },
     "execution_count": 9,
     "metadata": {},
     "output_type": "execute_result"
    }
   ],
   "source": [
    "resultado"
   ]
  },
  {
   "cell_type": "markdown",
   "metadata": {},
   "source": [
    "### Exercicio 2 \n",
    " A partir do array: nota = [9,6,7,3,8,8,\"oito\", \"A\", \"C\"], tire a media desses valores. Observação: Veja que tem string nesse array, a media só se tira"
   ]
  },
  {
   "cell_type": "code",
   "execution_count": 10,
   "metadata": {},
   "outputs": [],
   "source": [
    "numeros  = [3, 4, 5,3,4,5,'A']"
   ]
  },
  {
   "cell_type": "code",
   "execution_count": 12,
   "metadata": {},
   "outputs": [
    {
     "name": "stdout",
     "output_type": "stream",
     "text": [
      "media 3.4286\n"
     ]
    }
   ],
   "source": [
    "numeros  = [3, 4, 5,3,4,5,'A']\n",
    "total = len(numeros)\n",
    "numeros.remove('A')\n",
    "soma = 0\n",
    "for n in numeros:\n",
    "    soma = (soma + n)\n",
    "print('media', round(soma/total,4))"
   ]
  },
  {
   "cell_type": "code",
   "execution_count": null,
   "metadata": {},
   "outputs": [],
   "source": []
  }
 ],
 "metadata": {
  "kernelspec": {
   "display_name": "Python 3",
   "language": "python",
   "name": "python3"
  },
  "language_info": {
   "codemirror_mode": {
    "name": "ipython",
    "version": 3
   },
   "file_extension": ".py",
   "mimetype": "text/x-python",
   "name": "python",
   "nbconvert_exporter": "python",
   "pygments_lexer": "ipython3",
   "version": "3.8.3"
  }
 },
 "nbformat": 4,
 "nbformat_minor": 4
}
